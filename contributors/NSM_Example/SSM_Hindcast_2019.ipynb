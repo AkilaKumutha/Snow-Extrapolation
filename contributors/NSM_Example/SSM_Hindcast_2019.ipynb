{
 "cells": [
  {
   "cell_type": "markdown",
   "id": "03363aa0",
   "metadata": {},
   "source": [
    "## Prediction Simulation for Water Year 2019\n",
    "\n",
    "We will be testing and evaluating the performance of the model over the 2019 WY at select locations\n",
    "\n",
    "For example, the operational capacity of the model should begin at the beginning of the water year (WY week 1) with a previous SWE value of 0-in for each 1-km grid.\n",
    "Model evaluation could then assess the forecasting skill on a hold-out dataset of an entire year in which known neighboring values do not control predictions, but rather driving to-date predictions from the predicted previous SWE values. \n",
    "Due to the high model performance, future work will target the assessment of model skill with an operational motivation\n",
    "\n",
    "## Model Training/Testing influence on Model Results.\n",
    "\n",
    "The model training/testing partitioning methodology has a strong influence on model performance and the goal of model evaluation.\n",
    "The objective of the modeling effort was to examine the spatial extrapolation capacity of the model from selected monitoring stations to the overall region, best suited to a 75/25% training/testing split, respectively.\n",
    "While it is critical to address the strong serial correlation in SWE accumulation and melt throughout the season, the high correlation between weeks has the potential to inflate model skill when using a 75/25% training/testing split due to the previous SWE feature being known.\n",
    "An assessment of the operational capacity of the model is different than assessing the ability to extrapolate regional SWE from in-situ monitoring stations.\n",
    "For example, the operational capacity of the model should begin at the beginning of the water year (WY week 1) with a previous SWE value of 0-in for each 1-km grid.\n",
    "Model evaluation could then assess the forecasting skill on a hold-out dataset of an entire year in which known neighboring values do not control predictions, but rather driving to-date predictions from the predicted previous SWE values. \n",
    "Due to the high model performance, future work will target the assessment of model skill with an operational motivation."
   ]
  },
  {
   "cell_type": "code",
   "execution_count": 1,
   "id": "13048ad4",
   "metadata": {},
   "outputs": [
    {
     "name": "stderr",
     "output_type": "stream",
     "text": [
      "C:\\Users\\rjohnson18\\Anaconda3\\envs\\NSM_env\\lib\\site-packages\\geopandas\\_compat.py:111: UserWarning: The Shapely GEOS version (3.10.2-CAPI-1.16.0) is incompatible with the GEOS version PyGEOS was compiled with (3.10.3-CAPI-1.16.1). Conversions between both will be slow.\n",
      "  warnings.warn(\n",
      "C:\\Users\\rjohnson18\\Anaconda3\\envs\\NSM_env\\lib\\site-packages\\xarray\\backends\\cfgrib_.py:29: UserWarning: Failed to load cfgrib - most likely there is a problem accessing the ecCodes library. Try `import cfgrib` to get the full error message\n",
      "  warnings.warn(\n"
     ]
    }
   ],
   "source": [
    "import os\n",
    "import NSM_SCA\n",
    "import pandas as pd\n",
    "import warnings\n",
    "from Hindcast_Initialization import Hindcast_Initialization\n",
    "\n",
    "warnings.filterwarnings(\"ignore\")\n",
    "\n",
    "#Set working directories\n",
    "cwd = os.getcwd()\n",
    "os.chdir(\"..\")\n",
    "os.chdir(\"..\")\n",
    "datapath = os.getcwd() "
   ]
  },
  {
   "cell_type": "code",
   "execution_count": 2,
   "id": "c0062b00",
   "metadata": {},
   "outputs": [
    {
     "name": "stdout",
     "output_type": "stream",
     "text": [
      "Creating files for a historical simulation within  'N_Sierras', 'S_Sierras_High', 'S_Sierras_Low'  regions for water year  2019\n",
      "Ground measures features df complete\n",
      "Ground measures features meta df complete\n",
      "Making sure all testing locations are in prediction dataframe.\n",
      "New simulation start files complete\n"
     ]
    }
   ],
   "source": [
    "new_year = '2019'\n",
    "threshold = '20.0'\n",
    "Region_list = ['N_Sierras','S_Sierras_High', 'S_Sierras_Low']\n",
    "\n",
    "datelist = Hindcast_Initialization(cwd, datapath, new_year, threshold, Region_list)"
   ]
  },
  {
   "cell_type": "markdown",
   "id": "a1216932",
   "metadata": {},
   "source": [
    "## Run your SSM in hindcast mode to evaluate operational capacity.\n",
    "\n"
   ]
  },
  {
   "cell_type": "code",
   "execution_count": 3,
   "id": "9386868b",
   "metadata": {
    "scrolled": true
   },
   "outputs": [
    {
     "name": "stdout",
     "output_type": "stream",
     "text": [
      "Updating SWE predictions for  2018-10-02\n",
      "VIIRS fSCA files found locally\n"
     ]
    },
    {
     "name": "stderr",
     "output_type": "stream",
     "text": [
      "100%|██████████| 696/696 [00:00<00:00, 3097.24it/s]\n",
      "100%|██████████| 696/696 [00:00<00:00, 3208.10it/s]\n",
      "100%|██████████| 6454/6454 [00:00<00:00, 7527.51it/s]\n",
      "100%|██████████| 7112/7112 [00:00<00:00, 7504.15it/s]\n"
     ]
    },
    {
     "name": "stdout",
     "output_type": "stream",
     "text": [
      "Regional data QA/QC\n"
     ]
    },
    {
     "name": "stderr",
     "output_type": "stream",
     "text": [
      "100%|██████████| 2/2 [00:00<00:00, 14.00it/s]\n",
      "100%|██████████| 2/2 [00:11<00:00,  5.98s/it]\n"
     ]
    },
    {
     "name": "stdout",
     "output_type": "stream",
     "text": [
      "Calculating mean SCA for each geometry in each region...\n"
     ]
    },
    {
     "name": "stderr",
     "output_type": "stream",
     "text": [
      "100%|██████████| 3/3 [00:31<00:00, 10.66s/it]\n"
     ]
    },
    {
     "name": "stdout",
     "output_type": "stream",
     "text": [
      "Making predictions for:  2018-10-02\n",
      "N_Sierras\n",
      "36/36 [==============================] - 1s 1ms/step\n",
      "S_Sierras_High\n",
      "6/6 [==============================] - 0s 2ms/step\n",
      "S_Sierras_Low\n",
      "6/6 [==============================] - 0s 1ms/step\n",
      "Updating SWE predictions for  2018-10-09\n",
      "VIIRS fSCA files found locally\n"
     ]
    },
    {
     "name": "stderr",
     "output_type": "stream",
     "text": [
      "100%|██████████| 128/128 [00:00<00:00, 2249.43it/s]\n",
      "100%|██████████| 128/128 [00:00<00:00, 2739.79it/s]\n",
      "100%|██████████| 6454/6454 [00:00<00:00, 7008.60it/s]\n",
      "100%|██████████| 7112/7112 [00:00<00:00, 7236.69it/s]\n"
     ]
    },
    {
     "name": "stdout",
     "output_type": "stream",
     "text": [
      "Regional data QA/QC\n"
     ]
    },
    {
     "name": "stderr",
     "output_type": "stream",
     "text": [
      "100%|██████████| 2/2 [00:00<00:00, 15.34it/s]\n",
      "100%|██████████| 2/2 [00:11<00:00,  5.97s/it]\n"
     ]
    },
    {
     "name": "stdout",
     "output_type": "stream",
     "text": [
      "Calculating mean SCA for each geometry in each region...\n"
     ]
    },
    {
     "name": "stderr",
     "output_type": "stream",
     "text": [
      "100%|██████████| 3/3 [00:30<00:00, 10.07s/it]\n"
     ]
    },
    {
     "name": "stdout",
     "output_type": "stream",
     "text": [
      "Making predictions for:  2018-10-09\n",
      "N_Sierras\n",
      "1/1 [==============================] - 0s 71ms/step\n",
      "S_Sierras_High\n",
      "2/2 [==============================] - 0s 6ms/step\n",
      "S_Sierras_Low\n",
      "WARNING:tensorflow:5 out of the last 16 calls to <function Model.make_predict_function.<locals>.predict_function at 0x0000021858D9D310> triggered tf.function retracing. Tracing is expensive and the excessive number of tracings could be due to (1) creating @tf.function repeatedly in a loop, (2) passing tensors with different shapes, (3) passing Python objects instead of tensors. For (1), please define your @tf.function outside of the loop. For (2), @tf.function has reduce_retracing=True option that can avoid unnecessary retracing. For (3), please refer to https://www.tensorflow.org/guide/function#controlling_retracing and https://www.tensorflow.org/api_docs/python/tf/function for  more details.\n"
     ]
    },
    {
     "name": "stderr",
     "output_type": "stream",
     "text": [
      "5 out of the last 16 calls to <function Model.make_predict_function.<locals>.predict_function at 0x0000021858D9D310> triggered tf.function retracing. Tracing is expensive and the excessive number of tracings could be due to (1) creating @tf.function repeatedly in a loop, (2) passing tensors with different shapes, (3) passing Python objects instead of tensors. For (1), please define your @tf.function outside of the loop. For (2), @tf.function has reduce_retracing=True option that can avoid unnecessary retracing. For (3), please refer to https://www.tensorflow.org/guide/function#controlling_retracing and https://www.tensorflow.org/api_docs/python/tf/function for  more details.\n"
     ]
    },
    {
     "name": "stdout",
     "output_type": "stream",
     "text": [
      "1/1 [==============================] - 0s 56ms/step\n",
      "Updating SWE predictions for  2018-10-16\n",
      "VIIRS fSCA files found locally\n"
     ]
    },
    {
     "name": "stderr",
     "output_type": "stream",
     "text": [
      "100%|██████████| 128/128 [00:00<00:00, 2186.74it/s]\n",
      "100%|██████████| 128/128 [00:00<00:00, 2782.61it/s]\n",
      "100%|██████████| 6454/6454 [00:00<00:00, 7149.24it/s]\n",
      "100%|██████████| 7112/7112 [00:00<00:00, 7308.10it/s]\n"
     ]
    },
    {
     "name": "stdout",
     "output_type": "stream",
     "text": [
      "Regional data QA/QC\n"
     ]
    },
    {
     "name": "stderr",
     "output_type": "stream",
     "text": [
      "100%|██████████| 2/2 [00:00<00:00, 14.11it/s]\n",
      "100%|██████████| 2/2 [00:11<00:00,  5.90s/it]\n"
     ]
    },
    {
     "name": "stdout",
     "output_type": "stream",
     "text": [
      "Calculating mean SCA for each geometry in each region...\n"
     ]
    },
    {
     "name": "stderr",
     "output_type": "stream",
     "text": [
      "100%|██████████| 3/3 [00:30<00:00, 10.01s/it]\n"
     ]
    },
    {
     "name": "stdout",
     "output_type": "stream",
     "text": [
      "Making predictions for:  2018-10-16\n",
      "N_Sierras\n",
      "WARNING:tensorflow:5 out of the last 11 calls to <function Model.make_predict_function.<locals>.predict_function at 0x00000218774504C0> triggered tf.function retracing. Tracing is expensive and the excessive number of tracings could be due to (1) creating @tf.function repeatedly in a loop, (2) passing tensors with different shapes, (3) passing Python objects instead of tensors. For (1), please define your @tf.function outside of the loop. For (2), @tf.function has reduce_retracing=True option that can avoid unnecessary retracing. For (3), please refer to https://www.tensorflow.org/guide/function#controlling_retracing and https://www.tensorflow.org/api_docs/python/tf/function for  more details.\n"
     ]
    },
    {
     "name": "stderr",
     "output_type": "stream",
     "text": [
      "5 out of the last 11 calls to <function Model.make_predict_function.<locals>.predict_function at 0x00000218774504C0> triggered tf.function retracing. Tracing is expensive and the excessive number of tracings could be due to (1) creating @tf.function repeatedly in a loop, (2) passing tensors with different shapes, (3) passing Python objects instead of tensors. For (1), please define your @tf.function outside of the loop. For (2), @tf.function has reduce_retracing=True option that can avoid unnecessary retracing. For (3), please refer to https://www.tensorflow.org/guide/function#controlling_retracing and https://www.tensorflow.org/api_docs/python/tf/function for  more details.\n"
     ]
    },
    {
     "name": "stdout",
     "output_type": "stream",
     "text": [
      "1/1 [==============================] - 0s 75ms/step\n",
      "S_Sierras_High\n",
      "1/1 [==============================] - 0s 60ms/step\n",
      "S_Sierras_Low\n",
      "No snow in region:  S_Sierras_Low\n",
      "Updating SWE predictions for  2018-10-23\n",
      "VIIRS fSCA files found locally\n"
     ]
    },
    {
     "name": "stderr",
     "output_type": "stream",
     "text": [
      "100%|██████████| 128/128 [00:00<00:00, 3378.54it/s]\n",
      "100%|██████████| 128/128 [00:00<00:00, 2714.29it/s]\n",
      "100%|██████████| 6454/6454 [00:00<00:00, 7587.14it/s]\n",
      "100%|██████████| 7112/7112 [00:00<00:00, 7187.66it/s]\n"
     ]
    },
    {
     "name": "stdout",
     "output_type": "stream",
     "text": [
      "Regional data QA/QC\n"
     ]
    },
    {
     "name": "stderr",
     "output_type": "stream",
     "text": [
      "100%|██████████| 2/2 [00:00<00:00, 12.82it/s]\n",
      "100%|██████████| 2/2 [00:11<00:00,  5.92s/it]\n"
     ]
    },
    {
     "name": "stdout",
     "output_type": "stream",
     "text": [
      "Calculating mean SCA for each geometry in each region...\n"
     ]
    },
    {
     "name": "stderr",
     "output_type": "stream",
     "text": [
      "100%|██████████| 3/3 [00:31<00:00, 10.66s/it]\n"
     ]
    },
    {
     "name": "stdout",
     "output_type": "stream",
     "text": [
      "Making predictions for:  2018-10-23\n",
      "N_Sierras\n",
      "2/2 [==============================] - 0s 3ms/step\n",
      "S_Sierras_High\n",
      "1/1 [==============================] - 0s 60ms/step\n",
      "S_Sierras_Low\n",
      "1/1 [==============================] - 0s 46ms/step\n",
      "Updating SWE predictions for  2018-10-30\n",
      "VIIRS fSCA files found locally\n"
     ]
    },
    {
     "name": "stderr",
     "output_type": "stream",
     "text": [
      "100%|██████████| 128/128 [00:00<00:00, 2779.89it/s]\n",
      "100%|██████████| 128/128 [00:00<00:00, 2844.47it/s]\n",
      "100%|██████████| 6454/6454 [00:00<00:00, 7084.11it/s]\n",
      "100%|██████████| 7112/7112 [00:00<00:00, 7576.44it/s]\n"
     ]
    },
    {
     "name": "stdout",
     "output_type": "stream",
     "text": [
      "Regional data QA/QC\n"
     ]
    },
    {
     "name": "stderr",
     "output_type": "stream",
     "text": [
      "100%|██████████| 2/2 [00:00<00:00, 15.67it/s]\n",
      "100%|██████████| 2/2 [00:11<00:00,  5.86s/it]\n"
     ]
    },
    {
     "name": "stdout",
     "output_type": "stream",
     "text": [
      "Calculating mean SCA for each geometry in each region...\n"
     ]
    },
    {
     "name": "stderr",
     "output_type": "stream",
     "text": [
      "100%|██████████| 3/3 [00:29<00:00,  9.99s/it]\n"
     ]
    },
    {
     "name": "stdout",
     "output_type": "stream",
     "text": [
      "Making predictions for:  2018-10-30\n",
      "N_Sierras\n",
      "1/1 [==============================] - 0s 60ms/step\n",
      "S_Sierras_High\n",
      "1/1 [==============================] - 0s 47ms/step\n",
      "S_Sierras_Low\n",
      "No snow in region:  S_Sierras_Low\n",
      "Updating SWE predictions for  2018-11-06\n",
      "VIIRS fSCA files found locally\n"
     ]
    },
    {
     "name": "stderr",
     "output_type": "stream",
     "text": [
      "100%|██████████| 128/128 [00:00<00:00, 3826.67it/s]\n",
      "100%|██████████| 128/128 [00:00<00:00, 2775.10it/s]\n",
      "100%|██████████| 6454/6454 [00:00<00:00, 7052.55it/s]\n",
      "100%|██████████| 7112/7112 [00:00<00:00, 7596.65it/s]\n"
     ]
    },
    {
     "name": "stdout",
     "output_type": "stream",
     "text": [
      "Regional data QA/QC\n"
     ]
    },
    {
     "name": "stderr",
     "output_type": "stream",
     "text": [
      "100%|██████████| 2/2 [00:00<00:00, 13.46it/s]\n",
      "100%|██████████| 2/2 [00:11<00:00,  6.00s/it]\n"
     ]
    },
    {
     "name": "stdout",
     "output_type": "stream",
     "text": [
      "Calculating mean SCA for each geometry in each region...\n"
     ]
    },
    {
     "name": "stderr",
     "output_type": "stream",
     "text": [
      "100%|██████████| 3/3 [00:30<00:00, 10.23s/it]\n"
     ]
    },
    {
     "name": "stdout",
     "output_type": "stream",
     "text": [
      "Making predictions for:  2018-11-06\n",
      "N_Sierras\n",
      "2/2 [==============================] - 0s 3ms/step\n",
      "S_Sierras_High\n",
      "1/1 [==============================] - 0s 62ms/step\n",
      "S_Sierras_Low\n",
      "1/1 [==============================] - 0s 66ms/step\n",
      "Updating SWE predictions for  2018-11-13\n",
      "VIIRS fSCA files found locally\n"
     ]
    },
    {
     "name": "stderr",
     "output_type": "stream",
     "text": [
      "100%|██████████| 128/128 [00:00<00:00, 2943.95it/s]\n",
      "100%|██████████| 128/128 [00:00<00:00, 2744.14it/s]\n",
      "100%|██████████| 6454/6454 [00:00<00:00, 6548.90it/s]\n",
      "100%|██████████| 7112/7112 [00:00<00:00, 7548.95it/s]\n"
     ]
    },
    {
     "name": "stdout",
     "output_type": "stream",
     "text": [
      "Regional data QA/QC\n"
     ]
    },
    {
     "name": "stderr",
     "output_type": "stream",
     "text": [
      "100%|██████████| 2/2 [00:00<00:00, 14.28it/s]\n",
      "100%|██████████| 2/2 [00:12<00:00,  6.04s/it]\n"
     ]
    },
    {
     "name": "stdout",
     "output_type": "stream",
     "text": [
      "Calculating mean SCA for each geometry in each region...\n"
     ]
    },
    {
     "name": "stderr",
     "output_type": "stream",
     "text": [
      "100%|██████████| 3/3 [00:33<00:00, 11.10s/it]\n"
     ]
    },
    {
     "name": "stdout",
     "output_type": "stream",
     "text": [
      "Making predictions for:  2018-11-13\n",
      "N_Sierras\n",
      "1/1 [==============================] - 0s 72ms/step\n",
      "S_Sierras_High\n",
      "2/2 [==============================] - 0s 3ms/step\n",
      "S_Sierras_Low\n",
      "9/9 [==============================] - 0s 5ms/step\n",
      "Updating SWE predictions for  2018-11-20\n",
      "VIIRS fSCA files found locally\n"
     ]
    },
    {
     "name": "stderr",
     "output_type": "stream",
     "text": [
      "100%|██████████| 128/128 [00:00<00:00, 4100.94it/s]\n",
      "100%|██████████| 128/128 [00:00<00:00, 2930.57it/s]\n",
      "100%|██████████| 6454/6454 [00:00<00:00, 7494.16it/s]\n",
      "100%|██████████| 7112/7112 [00:00<00:00, 7855.31it/s]\n"
     ]
    },
    {
     "name": "stdout",
     "output_type": "stream",
     "text": [
      "Regional data QA/QC\n"
     ]
    },
    {
     "name": "stderr",
     "output_type": "stream",
     "text": [
      "100%|██████████| 2/2 [00:00<00:00, 13.91it/s]\n",
      "100%|██████████| 2/2 [00:12<00:00,  6.02s/it]\n"
     ]
    },
    {
     "name": "stdout",
     "output_type": "stream",
     "text": [
      "Calculating mean SCA for each geometry in each region...\n"
     ]
    },
    {
     "name": "stderr",
     "output_type": "stream",
     "text": [
      "100%|██████████| 3/3 [00:31<00:00, 10.37s/it]\n"
     ]
    },
    {
     "name": "stdout",
     "output_type": "stream",
     "text": [
      "Making predictions for:  2018-11-20\n",
      "N_Sierras\n",
      "1/1 [==============================] - 0s 57ms/step\n",
      "S_Sierras_High\n",
      "1/1 [==============================] - 0s 45ms/step\n",
      "S_Sierras_Low\n",
      "4/4 [==============================] - 0s 2ms/step\n",
      "Updating SWE predictions for  2018-11-27\n",
      "VIIRS fSCA files found locally\n"
     ]
    },
    {
     "name": "stderr",
     "output_type": "stream",
     "text": [
      "100%|██████████| 128/128 [00:00<00:00, 2974.80it/s]\n",
      "100%|██████████| 128/128 [00:00<00:00, 3072.57it/s]\n",
      "100%|██████████| 6454/6454 [00:00<00:00, 7554.13it/s]\n",
      "100%|██████████| 7112/7112 [00:00<00:00, 7613.64it/s]\n"
     ]
    },
    {
     "name": "stdout",
     "output_type": "stream",
     "text": [
      "Regional data QA/QC\n"
     ]
    },
    {
     "name": "stderr",
     "output_type": "stream",
     "text": [
      "100%|██████████| 2/2 [00:00<00:00, 13.96it/s]\n",
      "100%|██████████| 2/2 [00:11<00:00,  5.94s/it]\n"
     ]
    },
    {
     "name": "stdout",
     "output_type": "stream",
     "text": [
      "Calculating mean SCA for each geometry in each region...\n"
     ]
    },
    {
     "name": "stderr",
     "output_type": "stream",
     "text": [
      "100%|██████████| 3/3 [00:32<00:00, 10.98s/it]\n"
     ]
    },
    {
     "name": "stdout",
     "output_type": "stream",
     "text": [
      "Making predictions for:  2018-11-27\n",
      "N_Sierras\n",
      "43/43 [==============================] - 0s 3ms/step\n",
      "S_Sierras_High\n",
      "70/70 [==============================] - 0s 3ms/step\n",
      "S_Sierras_Low\n",
      "27/27 [==============================] - 0s 2ms/step\n",
      "Updating SWE predictions for  2018-12-04\n",
      "VIIRS fSCA files found locally\n"
     ]
    },
    {
     "name": "stderr",
     "output_type": "stream",
     "text": [
      "100%|██████████| 128/128 [00:00<00:00, 3019.18it/s]\n",
      "100%|██████████| 128/128 [00:00<00:00, 2867.84it/s]\n",
      "100%|██████████| 6454/6454 [00:00<00:00, 7355.28it/s]\n",
      "100%|██████████| 7112/7112 [00:00<00:00, 7529.02it/s]\n"
     ]
    },
    {
     "name": "stdout",
     "output_type": "stream",
     "text": [
      "Regional data QA/QC\n"
     ]
    },
    {
     "name": "stderr",
     "output_type": "stream",
     "text": [
      "100%|██████████| 2/2 [00:00<00:00, 14.68it/s]\n",
      "100%|██████████| 2/2 [00:11<00:00,  5.90s/it]\n"
     ]
    },
    {
     "name": "stdout",
     "output_type": "stream",
     "text": [
      "Calculating mean SCA for each geometry in each region...\n"
     ]
    },
    {
     "name": "stderr",
     "output_type": "stream",
     "text": [
      "100%|██████████| 3/3 [00:32<00:00, 10.82s/it]\n"
     ]
    },
    {
     "name": "stdout",
     "output_type": "stream",
     "text": [
      "Making predictions for:  2018-12-04\n",
      "N_Sierras\n",
      "133/133 [==============================] - 0s 2ms/step\n",
      "S_Sierras_High\n",
      "79/79 [==============================] - 0s 2ms/step\n",
      "S_Sierras_Low\n",
      "82/82 [==============================] - 0s 1ms/step\n",
      "Updating SWE predictions for  2018-12-11\n",
      "VIIRS fSCA granules need to be loaded from NSIDC, fetching...\n",
      "VIIRS version:  2\n"
     ]
    },
    {
     "name": "stderr",
     "output_type": "stream",
     "text": [
      "100%|██████████| 128/128 [00:00<00:00, 4090.41it/s]\n",
      "100%|██████████| 128/128 [00:00<00:00, 4091.63it/s]\n",
      "100%|██████████| 6454/6454 [00:00<00:00, 7726.64it/s]\n",
      "100%|██████████| 7112/7112 [00:00<00:00, 7714.74it/s]\n"
     ]
    },
    {
     "name": "stdout",
     "output_type": "stream",
     "text": [
      "Regional data QA/QC\n"
     ]
    },
    {
     "name": "stderr",
     "output_type": "stream",
     "text": [
      "100%|██████████| 2/2 [00:00<00:00, 13.88it/s]\n",
      "100%|██████████| 2/2 [00:11<00:00,  5.96s/it]\n"
     ]
    },
    {
     "name": "stdout",
     "output_type": "stream",
     "text": [
      "Calculating mean SCA for each geometry in each region...\n"
     ]
    },
    {
     "name": "stderr",
     "output_type": "stream",
     "text": [
      "100%|██████████| 3/3 [00:31<00:00, 10.64s/it]\n"
     ]
    },
    {
     "name": "stdout",
     "output_type": "stream",
     "text": [
      "Making predictions for:  2018-12-11\n",
      "N_Sierras\n",
      "135/135 [==============================] - 0s 2ms/step\n",
      "S_Sierras_High\n",
      "81/81 [==============================] - 0s 1ms/step\n",
      "S_Sierras_Low\n",
      "61/61 [==============================] - 0s 1ms/step\n",
      "Updating SWE predictions for  2018-12-18\n",
      "VIIRS fSCA granules need to be loaded from NSIDC, fetching...\n",
      "VIIRS version:  2\n"
     ]
    },
    {
     "name": "stderr",
     "output_type": "stream",
     "text": [
      "100%|██████████| 128/128 [00:00<00:00, 3410.07it/s]\n",
      "100%|██████████| 128/128 [00:00<00:00, 2690.23it/s]\n",
      "100%|██████████| 6454/6454 [00:00<00:00, 7845.52it/s]\n",
      "100%|██████████| 7112/7112 [00:00<00:00, 7502.60it/s]\n"
     ]
    },
    {
     "name": "stdout",
     "output_type": "stream",
     "text": [
      "Regional data QA/QC\n"
     ]
    },
    {
     "name": "stderr",
     "output_type": "stream",
     "text": [
      "100%|██████████| 2/2 [00:00<00:00, 13.14it/s]\n",
      "100%|██████████| 2/2 [00:11<00:00,  5.79s/it]\n"
     ]
    },
    {
     "name": "stdout",
     "output_type": "stream",
     "text": [
      "Calculating mean SCA for each geometry in each region...\n"
     ]
    },
    {
     "name": "stderr",
     "output_type": "stream",
     "text": [
      "100%|██████████| 3/3 [00:30<00:00, 10.13s/it]\n"
     ]
    },
    {
     "name": "stdout",
     "output_type": "stream",
     "text": [
      "Making predictions for:  2018-12-18\n",
      "N_Sierras\n",
      "120/120 [==============================] - 0s 2ms/step\n",
      "S_Sierras_High\n",
      "80/80 [==============================] - 0s 2ms/step\n",
      "S_Sierras_Low\n",
      "48/48 [==============================] - 0s 2ms/step\n",
      "Updating SWE predictions for  2018-12-25\n",
      "VIIRS fSCA granules need to be loaded from NSIDC, fetching...\n",
      "VIIRS version:  2\n"
     ]
    },
    {
     "name": "stderr",
     "output_type": "stream",
     "text": [
      "100%|██████████| 128/128 [00:00<00:00, 2755.60it/s]\n",
      "100%|██████████| 128/128 [00:00<00:00, 3670.71it/s]\n",
      "100%|██████████| 6454/6454 [00:00<00:00, 7749.41it/s]\n",
      "100%|██████████| 7112/7112 [00:00<00:00, 7752.79it/s]\n"
     ]
    },
    {
     "name": "stdout",
     "output_type": "stream",
     "text": [
      "Regional data QA/QC\n"
     ]
    },
    {
     "name": "stderr",
     "output_type": "stream",
     "text": [
      "100%|██████████| 2/2 [00:00<00:00, 15.21it/s]\n",
      "100%|██████████| 2/2 [00:11<00:00,  5.89s/it]\n"
     ]
    },
    {
     "name": "stdout",
     "output_type": "stream",
     "text": [
      "Calculating mean SCA for each geometry in each region...\n"
     ]
    },
    {
     "name": "stderr",
     "output_type": "stream",
     "text": [
      "100%|██████████| 3/3 [00:30<00:00, 10.01s/it]\n"
     ]
    },
    {
     "name": "stdout",
     "output_type": "stream",
     "text": [
      "Making predictions for:  2018-12-25\n",
      "N_Sierras\n",
      "118/118 [==============================] - 0s 2ms/step\n",
      "S_Sierras_High\n",
      "81/81 [==============================] - 0s 2ms/step\n",
      "S_Sierras_Low\n",
      "46/46 [==============================] - 0s 1ms/step\n",
      "Updating SWE predictions for  2019-01-01\n",
      "VIIRS fSCA granules need to be loaded from NSIDC, fetching...\n",
      "VIIRS version:  2\n"
     ]
    },
    {
     "name": "stderr",
     "output_type": "stream",
     "text": [
      "100%|██████████| 128/128 [00:00<00:00, 3475.48it/s]\n",
      "100%|██████████| 128/128 [00:00<00:00, 3610.21it/s]\n",
      "100%|██████████| 6454/6454 [00:00<00:00, 7583.32it/s]\n",
      "100%|██████████| 7112/7112 [00:00<00:00, 7313.14it/s]\n"
     ]
    },
    {
     "name": "stdout",
     "output_type": "stream",
     "text": [
      "Regional data QA/QC\n"
     ]
    },
    {
     "name": "stderr",
     "output_type": "stream",
     "text": [
      "100%|██████████| 2/2 [00:00<00:00, 16.62it/s]\n",
      "100%|██████████| 2/2 [00:11<00:00,  5.91s/it]\n"
     ]
    },
    {
     "name": "stdout",
     "output_type": "stream",
     "text": [
      "Calculating mean SCA for each geometry in each region...\n"
     ]
    },
    {
     "name": "stderr",
     "output_type": "stream",
     "text": [
      "100%|██████████| 3/3 [00:29<00:00,  9.72s/it]\n"
     ]
    },
    {
     "name": "stdout",
     "output_type": "stream",
     "text": [
      "Making predictions for:  2019-01-01\n",
      "N_Sierras\n",
      "92/92 [==============================] - 0s 2ms/step\n",
      "S_Sierras_High\n",
      "81/81 [==============================] - 0s 2ms/step\n",
      "S_Sierras_Low\n",
      "44/44 [==============================] - 0s 2ms/step\n",
      "Updating SWE predictions for  2019-01-08\n",
      "VIIRS fSCA granules need to be loaded from NSIDC, fetching...\n",
      "VIIRS version:  2\n"
     ]
    },
    {
     "name": "stderr",
     "output_type": "stream",
     "text": [
      "100%|██████████| 128/128 [00:00<00:00, 2389.66it/s]\n",
      "100%|██████████| 128/128 [00:00<00:00, 3378.95it/s]\n",
      "100%|██████████| 6454/6454 [00:00<00:00, 7550.32it/s]\n",
      "100%|██████████| 7112/7112 [00:00<00:00, 7761.25it/s]\n"
     ]
    },
    {
     "name": "stdout",
     "output_type": "stream",
     "text": [
      "Regional data QA/QC\n"
     ]
    },
    {
     "name": "stderr",
     "output_type": "stream",
     "text": [
      "100%|██████████| 2/2 [00:00<00:00, 15.20it/s]\n",
      "100%|██████████| 2/2 [00:11<00:00,  5.91s/it]\n"
     ]
    },
    {
     "name": "stdout",
     "output_type": "stream",
     "text": [
      "Calculating mean SCA for each geometry in each region...\n"
     ]
    },
    {
     "name": "stderr",
     "output_type": "stream",
     "text": [
      "100%|██████████| 3/3 [00:32<00:00, 10.84s/it]\n"
     ]
    },
    {
     "name": "stdout",
     "output_type": "stream",
     "text": [
      "Making predictions for:  2019-01-08\n",
      "N_Sierras\n",
      "106/106 [==============================] - 0s 2ms/step\n",
      "S_Sierras_High\n",
      "81/81 [==============================] - 0s 2ms/step\n",
      "S_Sierras_Low\n",
      "38/38 [==============================] - 0s 2ms/step\n",
      "Updating SWE predictions for  2019-01-15\n",
      "VIIRS fSCA granules need to be loaded from NSIDC, fetching...\n",
      "VIIRS version:  2\n"
     ]
    },
    {
     "name": "stderr",
     "output_type": "stream",
     "text": [
      "100%|██████████| 128/128 [00:00<00:00, 4096.63it/s]\n",
      "100%|██████████| 128/128 [00:00<00:00, 2394.87it/s]\n",
      "100%|██████████| 6454/6454 [00:00<00:00, 8047.73it/s]\n",
      "100%|██████████| 7112/7112 [00:00<00:00, 7755.82it/s]\n"
     ]
    },
    {
     "name": "stdout",
     "output_type": "stream",
     "text": [
      "Regional data QA/QC\n"
     ]
    },
    {
     "name": "stderr",
     "output_type": "stream",
     "text": [
      "100%|██████████| 2/2 [00:00<00:00, 15.64it/s]\n",
      "100%|██████████| 2/2 [00:11<00:00,  5.93s/it]\n"
     ]
    },
    {
     "name": "stdout",
     "output_type": "stream",
     "text": [
      "Calculating mean SCA for each geometry in each region...\n"
     ]
    },
    {
     "name": "stderr",
     "output_type": "stream",
     "text": [
      "100%|██████████| 3/3 [00:33<00:00, 11.08s/it]\n"
     ]
    },
    {
     "name": "stdout",
     "output_type": "stream",
     "text": [
      "Making predictions for:  2019-01-15\n",
      "N_Sierras\n",
      "126/126 [==============================] - 0s 2ms/step\n",
      "S_Sierras_High\n",
      "81/81 [==============================] - 0s 1ms/step\n",
      "S_Sierras_Low\n",
      "65/65 [==============================] - 0s 2ms/step\n",
      "Updating SWE predictions for  2019-01-22\n",
      "VIIRS fSCA granules need to be loaded from NSIDC, fetching...\n",
      "VIIRS version:  2\n"
     ]
    },
    {
     "name": "stderr",
     "output_type": "stream",
     "text": [
      "100%|██████████| 128/128 [00:00<00:00, 2729.89it/s]\n",
      "100%|██████████| 128/128 [00:00<00:00, 2730.83it/s]\n",
      "100%|██████████| 6454/6454 [00:00<00:00, 7897.09it/s]\n",
      "100%|██████████| 7112/7112 [00:00<00:00, 7886.89it/s]\n"
     ]
    },
    {
     "name": "stdout",
     "output_type": "stream",
     "text": [
      "Regional data QA/QC\n"
     ]
    },
    {
     "name": "stderr",
     "output_type": "stream",
     "text": [
      "100%|██████████| 2/2 [00:00<00:00, 16.35it/s]\n",
      "100%|██████████| 2/2 [00:11<00:00,  5.87s/it]\n"
     ]
    },
    {
     "name": "stdout",
     "output_type": "stream",
     "text": [
      "Calculating mean SCA for each geometry in each region...\n"
     ]
    },
    {
     "name": "stderr",
     "output_type": "stream",
     "text": [
      "100%|██████████| 3/3 [00:31<00:00, 10.42s/it]\n"
     ]
    },
    {
     "name": "stdout",
     "output_type": "stream",
     "text": [
      "Making predictions for:  2019-01-22\n",
      "N_Sierras\n",
      "141/141 [==============================] - 0s 2ms/step\n",
      "S_Sierras_High\n",
      "81/81 [==============================] - 0s 2ms/step\n",
      "S_Sierras_Low\n",
      "67/67 [==============================] - 0s 1ms/step\n",
      "Updating SWE predictions for  2019-01-29\n",
      "VIIRS fSCA granules need to be loaded from NSIDC, fetching...\n",
      "VIIRS version:  2\n"
     ]
    },
    {
     "name": "stderr",
     "output_type": "stream",
     "text": [
      "100%|██████████| 128/128 [00:00<00:00, 2844.50it/s]\n",
      "100%|██████████| 128/128 [00:00<00:00, 2909.13it/s]\n",
      "100%|██████████| 6454/6454 [00:00<00:00, 7134.58it/s]\n",
      "100%|██████████| 7112/7112 [00:00<00:00, 7377.03it/s]\n"
     ]
    },
    {
     "name": "stdout",
     "output_type": "stream",
     "text": [
      "Regional data QA/QC\n"
     ]
    },
    {
     "name": "stderr",
     "output_type": "stream",
     "text": [
      "100%|██████████| 2/2 [00:00<00:00, 15.34it/s]\n",
      "100%|██████████| 2/2 [00:12<00:00,  6.40s/it]\n"
     ]
    },
    {
     "name": "stdout",
     "output_type": "stream",
     "text": [
      "Calculating mean SCA for each geometry in each region...\n"
     ]
    },
    {
     "name": "stderr",
     "output_type": "stream",
     "text": [
      "100%|██████████| 3/3 [00:33<00:00, 11.13s/it]\n"
     ]
    },
    {
     "name": "stdout",
     "output_type": "stream",
     "text": [
      "Making predictions for:  2019-01-29\n",
      "N_Sierras\n",
      "126/126 [==============================] - 0s 2ms/step\n",
      "S_Sierras_High\n",
      "81/81 [==============================] - 0s 2ms/step\n",
      "S_Sierras_Low\n",
      "59/59 [==============================] - 0s 2ms/step\n",
      "Updating SWE predictions for  2019-02-05\n",
      "VIIRS fSCA granules need to be loaded from NSIDC, fetching...\n",
      "VIIRS version:  2\n"
     ]
    },
    {
     "name": "stderr",
     "output_type": "stream",
     "text": [
      "100%|██████████| 128/128 [00:00<00:00, 2730.72it/s]\n",
      "100%|██████████| 128/128 [00:00<00:00, 3189.15it/s]\n",
      "100%|██████████| 6454/6454 [00:00<00:00, 7684.41it/s]\n",
      "100%|██████████| 7112/7112 [00:00<00:00, 7838.39it/s]\n"
     ]
    },
    {
     "name": "stdout",
     "output_type": "stream",
     "text": [
      "Regional data QA/QC\n"
     ]
    },
    {
     "name": "stderr",
     "output_type": "stream",
     "text": [
      "100%|██████████| 2/2 [00:00<00:00, 16.54it/s]\n",
      "100%|██████████| 2/2 [00:11<00:00,  5.91s/it]\n"
     ]
    },
    {
     "name": "stdout",
     "output_type": "stream",
     "text": [
      "Calculating mean SCA for each geometry in each region...\n"
     ]
    },
    {
     "name": "stderr",
     "output_type": "stream",
     "text": [
      "100%|██████████| 3/3 [00:31<00:00, 10.65s/it]\n"
     ]
    },
    {
     "name": "stdout",
     "output_type": "stream",
     "text": [
      "Making predictions for:  2019-02-05\n",
      "N_Sierras\n",
      "131/131 [==============================] - 0s 2ms/step\n",
      "S_Sierras_High\n",
      "81/81 [==============================] - 0s 2ms/step\n",
      "S_Sierras_Low\n",
      "56/56 [==============================] - 0s 1ms/step\n",
      "Updating SWE predictions for  2019-02-12\n",
      "VIIRS fSCA granules need to be loaded from NSIDC, fetching...\n",
      "VIIRS version:  2\n"
     ]
    },
    {
     "name": "stderr",
     "output_type": "stream",
     "text": [
      "100%|██████████| 128/128 [00:00<00:00, 2454.59it/s]\n",
      "100%|██████████| 128/128 [00:00<00:00, 2881.83it/s]\n",
      "100%|██████████| 6454/6454 [00:00<00:00, 7686.14it/s]\n",
      "100%|██████████| 7112/7112 [00:01<00:00, 6929.10it/s]\n"
     ]
    },
    {
     "name": "stdout",
     "output_type": "stream",
     "text": [
      "Regional data QA/QC\n"
     ]
    },
    {
     "name": "stderr",
     "output_type": "stream",
     "text": [
      "100%|██████████| 2/2 [00:00<00:00, 12.51it/s]\n",
      "100%|██████████| 2/2 [00:12<00:00,  6.08s/it]\n"
     ]
    },
    {
     "name": "stdout",
     "output_type": "stream",
     "text": [
      "Calculating mean SCA for each geometry in each region...\n"
     ]
    },
    {
     "name": "stderr",
     "output_type": "stream",
     "text": [
      "100%|██████████| 3/3 [00:31<00:00, 10.64s/it]\n"
     ]
    },
    {
     "name": "stdout",
     "output_type": "stream",
     "text": [
      "Making predictions for:  2019-02-12\n",
      "N_Sierras\n",
      "157/157 [==============================] - 0s 2ms/step\n",
      "S_Sierras_High\n",
      "81/81 [==============================] - 0s 2ms/step\n",
      "S_Sierras_Low\n",
      "100/100 [==============================] - 0s 1ms/step\n",
      "Updating SWE predictions for  2019-02-19\n",
      "VIIRS fSCA granules need to be loaded from NSIDC, fetching...\n",
      "VIIRS version:  2\n"
     ]
    },
    {
     "name": "stderr",
     "output_type": "stream",
     "text": [
      "100%|██████████| 128/128 [00:00<00:00, 3021.76it/s]\n",
      "100%|██████████| 128/128 [00:00<00:00, 2710.63it/s]\n",
      "100%|██████████| 6454/6454 [00:00<00:00, 7259.99it/s]\n",
      "100%|██████████| 7112/7112 [00:00<00:00, 7581.43it/s]\n"
     ]
    },
    {
     "name": "stdout",
     "output_type": "stream",
     "text": [
      "Regional data QA/QC\n"
     ]
    },
    {
     "name": "stderr",
     "output_type": "stream",
     "text": [
      "100%|██████████| 2/2 [00:00<00:00, 13.58it/s]\n",
      "100%|██████████| 2/2 [00:11<00:00,  5.83s/it]\n"
     ]
    },
    {
     "name": "stdout",
     "output_type": "stream",
     "text": [
      "Calculating mean SCA for each geometry in each region...\n"
     ]
    },
    {
     "name": "stderr",
     "output_type": "stream",
     "text": [
      "100%|██████████| 3/3 [00:31<00:00, 10.63s/it]\n"
     ]
    },
    {
     "name": "stdout",
     "output_type": "stream",
     "text": [
      "Making predictions for:  2019-02-19\n",
      "N_Sierras\n",
      "167/167 [==============================] - 0s 3ms/step\n",
      "S_Sierras_High\n",
      "81/81 [==============================] - 0s 2ms/step\n",
      "S_Sierras_Low\n",
      "112/112 [==============================] - 0s 1ms/step\n",
      "Updating SWE predictions for  2019-02-26\n",
      "VIIRS fSCA granules need to be loaded from NSIDC, fetching...\n",
      "VIIRS version:  2\n"
     ]
    },
    {
     "name": "stderr",
     "output_type": "stream",
     "text": [
      "100%|██████████| 128/128 [00:00<00:00, 2396.77it/s]\n",
      "100%|██████████| 128/128 [00:00<00:00, 2965.63it/s]\n",
      "100%|██████████| 6454/6454 [00:00<00:00, 7744.85it/s]\n",
      "100%|██████████| 7112/7112 [00:00<00:00, 7439.52it/s]\n"
     ]
    },
    {
     "name": "stdout",
     "output_type": "stream",
     "text": [
      "Regional data QA/QC\n"
     ]
    },
    {
     "name": "stderr",
     "output_type": "stream",
     "text": [
      "100%|██████████| 2/2 [00:00<00:00, 13.29it/s]\n",
      "100%|██████████| 2/2 [00:11<00:00,  5.86s/it]\n"
     ]
    },
    {
     "name": "stdout",
     "output_type": "stream",
     "text": [
      "Calculating mean SCA for each geometry in each region...\n"
     ]
    },
    {
     "name": "stderr",
     "output_type": "stream",
     "text": [
      "100%|██████████| 3/3 [00:30<00:00, 10.13s/it]\n"
     ]
    },
    {
     "name": "stdout",
     "output_type": "stream",
     "text": [
      "Making predictions for:  2019-02-26\n",
      "N_Sierras\n",
      "152/152 [==============================] - 0s 2ms/step\n",
      "S_Sierras_High\n",
      "81/81 [==============================] - 0s 1ms/step\n",
      "S_Sierras_Low\n",
      "102/102 [==============================] - 0s 1ms/step\n",
      "Updating SWE predictions for  2019-03-05\n",
      "VIIRS fSCA granules need to be loaded from NSIDC, fetching...\n",
      "VIIRS version:  2\n"
     ]
    },
    {
     "name": "stderr",
     "output_type": "stream",
     "text": [
      "100%|██████████| 128/128 [00:00<00:00, 2291.59it/s]\n",
      "100%|██████████| 128/128 [00:00<00:00, 3033.99it/s]\n",
      "100%|██████████| 6454/6454 [00:00<00:00, 7781.46it/s]\n",
      "100%|██████████| 7112/7112 [00:00<00:00, 7639.16it/s]\n"
     ]
    },
    {
     "name": "stdout",
     "output_type": "stream",
     "text": [
      "Regional data QA/QC\n"
     ]
    },
    {
     "name": "stderr",
     "output_type": "stream",
     "text": [
      "100%|██████████| 2/2 [00:00<00:00, 14.55it/s]\n",
      "100%|██████████| 2/2 [00:11<00:00,  5.87s/it]\n"
     ]
    },
    {
     "name": "stdout",
     "output_type": "stream",
     "text": [
      "Calculating mean SCA for each geometry in each region...\n"
     ]
    },
    {
     "name": "stderr",
     "output_type": "stream",
     "text": [
      "100%|██████████| 3/3 [00:31<00:00, 10.55s/it]\n"
     ]
    },
    {
     "name": "stdout",
     "output_type": "stream",
     "text": [
      "Making predictions for:  2019-03-05\n",
      "N_Sierras\n",
      "151/151 [==============================] - 0s 3ms/step\n",
      "S_Sierras_High\n",
      "81/81 [==============================] - 0s 1ms/step\n",
      "S_Sierras_Low\n",
      "95/95 [==============================] - 0s 1ms/step\n",
      "Updating SWE predictions for  2019-03-12\n",
      "VIIRS fSCA granules need to be loaded from NSIDC, fetching...\n",
      "VIIRS version:  2\n"
     ]
    },
    {
     "name": "stderr",
     "output_type": "stream",
     "text": [
      "100%|██████████| 128/128 [00:00<00:00, 3094.13it/s]\n",
      "100%|██████████| 128/128 [00:00<00:00, 3033.10it/s]\n",
      "100%|██████████| 6454/6454 [00:00<00:00, 7787.52it/s]\n",
      "100%|██████████| 7112/7112 [00:00<00:00, 7663.16it/s]\n"
     ]
    },
    {
     "name": "stdout",
     "output_type": "stream",
     "text": [
      "Regional data QA/QC\n"
     ]
    },
    {
     "name": "stderr",
     "output_type": "stream",
     "text": [
      "100%|██████████| 2/2 [00:00<00:00, 15.42it/s]\n",
      "100%|██████████| 2/2 [00:11<00:00,  5.90s/it]\n"
     ]
    },
    {
     "name": "stdout",
     "output_type": "stream",
     "text": [
      "Calculating mean SCA for each geometry in each region...\n"
     ]
    },
    {
     "name": "stderr",
     "output_type": "stream",
     "text": [
      "100%|██████████| 3/3 [00:31<00:00, 10.61s/it]\n"
     ]
    },
    {
     "name": "stdout",
     "output_type": "stream",
     "text": [
      "Making predictions for:  2019-03-12\n",
      "N_Sierras\n",
      "151/151 [==============================] - 0s 2ms/step\n",
      "S_Sierras_High\n",
      "81/81 [==============================] - 0s 2ms/step\n",
      "S_Sierras_Low\n",
      "94/94 [==============================] - 0s 2ms/step\n",
      "Updating SWE predictions for  2019-03-19\n",
      "VIIRS fSCA granules need to be loaded from NSIDC, fetching...\n",
      "VIIRS version:  2\n"
     ]
    },
    {
     "name": "stderr",
     "output_type": "stream",
     "text": [
      "100%|██████████| 128/128 [00:00<00:00, 3020.49it/s]\n",
      "100%|██████████| 128/128 [00:00<00:00, 2930.92it/s]\n",
      "100%|██████████| 6454/6454 [00:00<00:00, 7047.58it/s]\n",
      "100%|██████████| 7112/7112 [00:00<00:00, 7145.40it/s]\n"
     ]
    },
    {
     "name": "stdout",
     "output_type": "stream",
     "text": [
      "Regional data QA/QC\n"
     ]
    },
    {
     "name": "stderr",
     "output_type": "stream",
     "text": [
      "100%|██████████| 2/2 [00:00<00:00, 12.45it/s]\n",
      "100%|██████████| 2/2 [00:11<00:00,  5.83s/it]\n"
     ]
    },
    {
     "name": "stdout",
     "output_type": "stream",
     "text": [
      "Calculating mean SCA for each geometry in each region...\n"
     ]
    },
    {
     "name": "stderr",
     "output_type": "stream",
     "text": [
      "100%|██████████| 3/3 [00:31<00:00, 10.61s/it]\n"
     ]
    },
    {
     "name": "stdout",
     "output_type": "stream",
     "text": [
      "Making predictions for:  2019-03-19\n",
      "N_Sierras\n",
      "127/127 [==============================] - 0s 2ms/step\n",
      "S_Sierras_High\n",
      "81/81 [==============================] - 0s 2ms/step\n",
      "S_Sierras_Low\n",
      "66/66 [==============================] - 0s 2ms/step\n",
      "Updating SWE predictions for  2019-03-26\n",
      "VIIRS fSCA granules need to be loaded from NSIDC, fetching...\n",
      "VIIRS version:  2\n"
     ]
    },
    {
     "name": "stderr",
     "output_type": "stream",
     "text": [
      "100%|██████████| 128/128 [00:00<00:00, 2638.96it/s]\n",
      "100%|██████████| 128/128 [00:00<00:00, 3093.66it/s]\n",
      "100%|██████████| 6454/6454 [00:00<00:00, 7792.70it/s]\n",
      "100%|██████████| 7112/7112 [00:00<00:00, 7750.25it/s]\n"
     ]
    },
    {
     "name": "stdout",
     "output_type": "stream",
     "text": [
      "Regional data QA/QC\n"
     ]
    },
    {
     "name": "stderr",
     "output_type": "stream",
     "text": [
      "100%|██████████| 2/2 [00:00<00:00, 13.64it/s]\n",
      "100%|██████████| 2/2 [00:11<00:00,  5.76s/it]\n"
     ]
    },
    {
     "name": "stdout",
     "output_type": "stream",
     "text": [
      "Calculating mean SCA for each geometry in each region...\n"
     ]
    },
    {
     "name": "stderr",
     "output_type": "stream",
     "text": [
      "100%|██████████| 3/3 [00:32<00:00, 10.87s/it]\n"
     ]
    },
    {
     "name": "stdout",
     "output_type": "stream",
     "text": [
      "Making predictions for:  2019-03-26\n",
      "N_Sierras\n",
      "134/134 [==============================] - 0s 3ms/step\n",
      "S_Sierras_High\n",
      "81/81 [==============================] - 0s 2ms/step\n",
      "S_Sierras_Low\n",
      "72/72 [==============================] - 0s 2ms/step\n",
      "Updating SWE predictions for  2019-04-02\n",
      "VIIRS fSCA granules need to be loaded from NSIDC, fetching...\n",
      "VIIRS version:  2\n"
     ]
    },
    {
     "name": "stderr",
     "output_type": "stream",
     "text": [
      "100%|██████████| 128/128 [00:00<00:00, 3039.88it/s]\n",
      "100%|██████████| 128/128 [00:00<00:00, 3682.47it/s]\n",
      "100%|██████████| 6454/6454 [00:00<00:00, 7545.63it/s]\n",
      "100%|██████████| 7112/7112 [00:00<00:00, 7612.19it/s]\n"
     ]
    },
    {
     "name": "stdout",
     "output_type": "stream",
     "text": [
      "Regional data QA/QC\n"
     ]
    },
    {
     "name": "stderr",
     "output_type": "stream",
     "text": [
      "100%|██████████| 2/2 [00:00<00:00, 15.18it/s]\n",
      "100%|██████████| 2/2 [00:11<00:00,  5.83s/it]\n"
     ]
    },
    {
     "name": "stdout",
     "output_type": "stream",
     "text": [
      "Calculating mean SCA for each geometry in each region...\n"
     ]
    },
    {
     "name": "stderr",
     "output_type": "stream",
     "text": [
      "100%|██████████| 3/3 [00:32<00:00, 10.73s/it]\n"
     ]
    },
    {
     "name": "stdout",
     "output_type": "stream",
     "text": [
      "Making predictions for:  2019-04-02\n",
      "N_Sierras\n",
      "126/126 [==============================] - 0s 2ms/step\n",
      "S_Sierras_High\n",
      "81/81 [==============================] - 0s 1ms/step\n",
      "S_Sierras_Low\n",
      "62/62 [==============================] - 0s 2ms/step\n",
      "Updating SWE predictions for  2019-04-09\n",
      "VIIRS fSCA granules need to be loaded from NSIDC, fetching...\n",
      "VIIRS version:  2\n"
     ]
    },
    {
     "name": "stderr",
     "output_type": "stream",
     "text": [
      "100%|██████████| 128/128 [00:00<00:00, 4094.78it/s]\n",
      "100%|██████████| 128/128 [00:00<00:00, 3227.36it/s]\n",
      "100%|██████████| 6454/6454 [00:00<00:00, 7441.46it/s]\n",
      "100%|██████████| 7112/7112 [00:00<00:00, 7721.32it/s]\n"
     ]
    },
    {
     "name": "stdout",
     "output_type": "stream",
     "text": [
      "Regional data QA/QC\n"
     ]
    },
    {
     "name": "stderr",
     "output_type": "stream",
     "text": [
      "100%|██████████| 2/2 [00:00<00:00, 13.98it/s]\n",
      "100%|██████████| 2/2 [00:11<00:00,  5.96s/it]\n"
     ]
    },
    {
     "name": "stdout",
     "output_type": "stream",
     "text": [
      "Calculating mean SCA for each geometry in each region...\n"
     ]
    },
    {
     "name": "stderr",
     "output_type": "stream",
     "text": [
      "100%|██████████| 3/3 [00:30<00:00, 10.31s/it]\n"
     ]
    },
    {
     "name": "stdout",
     "output_type": "stream",
     "text": [
      "Making predictions for:  2019-04-09\n",
      "N_Sierras\n",
      "136/136 [==============================] - 0s 2ms/step\n",
      "S_Sierras_High\n",
      "81/81 [==============================] - 0s 1ms/step\n",
      "S_Sierras_Low\n",
      "57/57 [==============================] - 0s 1ms/step\n",
      "Updating SWE predictions for  2019-04-16\n",
      "VIIRS fSCA files found locally\n"
     ]
    },
    {
     "name": "stderr",
     "output_type": "stream",
     "text": [
      "100%|██████████| 128/128 [00:00<00:00, 3021.34it/s]\n",
      "100%|██████████| 128/128 [00:00<00:00, 2543.57it/s]\n",
      "100%|██████████| 6454/6454 [00:00<00:00, 7554.53it/s]\n",
      "100%|██████████| 7112/7112 [00:00<00:00, 7413.40it/s]\n"
     ]
    },
    {
     "name": "stdout",
     "output_type": "stream",
     "text": [
      "Regional data QA/QC\n"
     ]
    },
    {
     "name": "stderr",
     "output_type": "stream",
     "text": [
      "100%|██████████| 2/2 [00:00<00:00, 14.40it/s]\n",
      "100%|██████████| 2/2 [00:11<00:00,  5.99s/it]\n"
     ]
    },
    {
     "name": "stdout",
     "output_type": "stream",
     "text": [
      "Calculating mean SCA for each geometry in each region...\n"
     ]
    },
    {
     "name": "stderr",
     "output_type": "stream",
     "text": [
      "100%|██████████| 3/3 [00:30<00:00, 10.01s/it]\n"
     ]
    },
    {
     "name": "stdout",
     "output_type": "stream",
     "text": [
      "Making predictions for:  2019-04-16\n",
      "N_Sierras\n",
      "102/102 [==============================] - 0s 2ms/step\n",
      "S_Sierras_High\n",
      "81/81 [==============================] - 0s 2ms/step\n",
      "S_Sierras_Low\n",
      "54/54 [==============================] - 0s 1ms/step\n",
      "Updating SWE predictions for  2019-04-23\n",
      "VIIRS fSCA files found locally\n"
     ]
    },
    {
     "name": "stderr",
     "output_type": "stream",
     "text": [
      "100%|██████████| 128/128 [00:00<00:00, 3467.13it/s]\n",
      "100%|██████████| 128/128 [00:00<00:00, 3713.93it/s]\n",
      "100%|██████████| 6454/6454 [00:00<00:00, 7595.22it/s]\n",
      "100%|██████████| 7112/7112 [00:00<00:00, 7645.72it/s]\n"
     ]
    },
    {
     "name": "stdout",
     "output_type": "stream",
     "text": [
      "Regional data QA/QC\n"
     ]
    },
    {
     "name": "stderr",
     "output_type": "stream",
     "text": [
      "100%|██████████| 2/2 [00:00<00:00, 14.28it/s]\n",
      "100%|██████████| 2/2 [00:11<00:00,  5.94s/it]\n"
     ]
    },
    {
     "name": "stdout",
     "output_type": "stream",
     "text": [
      "Calculating mean SCA for each geometry in each region...\n"
     ]
    },
    {
     "name": "stderr",
     "output_type": "stream",
     "text": [
      "100%|██████████| 3/3 [00:31<00:00, 10.61s/it]\n"
     ]
    },
    {
     "name": "stdout",
     "output_type": "stream",
     "text": [
      "Making predictions for:  2019-04-23\n",
      "N_Sierras\n",
      "70/70 [==============================] - 0s 4ms/step\n",
      "S_Sierras_High\n",
      "81/81 [==============================] - 0s 3ms/step\n",
      "S_Sierras_Low\n",
      "36/36 [==============================] - 0s 2ms/step\n",
      "Updating SWE predictions for  2019-04-30\n",
      "VIIRS fSCA files found locally\n"
     ]
    },
    {
     "name": "stderr",
     "output_type": "stream",
     "text": [
      "100%|██████████| 128/128 [00:00<00:00, 2939.46it/s]\n",
      "100%|██████████| 128/128 [00:00<00:00, 2404.90it/s]\n",
      "100%|██████████| 6454/6454 [00:00<00:00, 7774.76it/s]\n",
      "100%|██████████| 7112/7112 [00:01<00:00, 7071.58it/s]\n"
     ]
    },
    {
     "name": "stdout",
     "output_type": "stream",
     "text": [
      "Regional data QA/QC\n"
     ]
    },
    {
     "name": "stderr",
     "output_type": "stream",
     "text": [
      "100%|██████████| 2/2 [00:00<00:00, 11.29it/s]\n",
      "100%|██████████| 2/2 [00:11<00:00,  5.86s/it]\n"
     ]
    },
    {
     "name": "stdout",
     "output_type": "stream",
     "text": [
      "Calculating mean SCA for each geometry in each region...\n"
     ]
    },
    {
     "name": "stderr",
     "output_type": "stream",
     "text": [
      "100%|██████████| 3/3 [00:31<00:00, 10.41s/it]\n"
     ]
    },
    {
     "name": "stdout",
     "output_type": "stream",
     "text": [
      "Making predictions for:  2019-04-30\n",
      "N_Sierras\n",
      "59/59 [==============================] - 0s 3ms/step\n",
      "S_Sierras_High\n",
      "81/81 [==============================] - 0s 2ms/step\n",
      "S_Sierras_Low\n",
      "30/30 [==============================] - 0s 2ms/step\n",
      "Updating SWE predictions for  2019-05-07\n",
      "VIIRS fSCA files found locally\n"
     ]
    },
    {
     "name": "stderr",
     "output_type": "stream",
     "text": [
      "100%|██████████| 128/128 [00:00<00:00, 2806.70it/s]\n",
      "100%|██████████| 128/128 [00:00<00:00, 3109.38it/s]\n",
      "100%|██████████| 6454/6454 [00:00<00:00, 7088.43it/s]\n",
      "100%|██████████| 7112/7112 [00:01<00:00, 6460.65it/s]\n"
     ]
    },
    {
     "name": "stdout",
     "output_type": "stream",
     "text": [
      "Regional data QA/QC\n"
     ]
    },
    {
     "name": "stderr",
     "output_type": "stream",
     "text": [
      "100%|██████████| 2/2 [00:00<00:00,  9.42it/s]\n",
      "100%|██████████| 2/2 [00:12<00:00,  6.17s/it]\n"
     ]
    },
    {
     "name": "stdout",
     "output_type": "stream",
     "text": [
      "Calculating mean SCA for each geometry in each region...\n"
     ]
    },
    {
     "name": "stderr",
     "output_type": "stream",
     "text": [
      "100%|██████████| 3/3 [00:32<00:00, 10.95s/it]\n"
     ]
    },
    {
     "name": "stdout",
     "output_type": "stream",
     "text": [
      "Making predictions for:  2019-05-07\n",
      "N_Sierras\n",
      "50/50 [==============================] - 0s 3ms/step\n",
      "S_Sierras_High\n",
      "80/80 [==============================] - 0s 2ms/step\n",
      "S_Sierras_Low\n",
      "26/26 [==============================] - 0s 2ms/step\n",
      "Updating SWE predictions for  2019-05-14\n",
      "VIIRS fSCA files found locally\n"
     ]
    },
    {
     "name": "stderr",
     "output_type": "stream",
     "text": [
      "100%|██████████| 128/128 [00:00<00:00, 2173.16it/s]\n",
      "100%|██████████| 128/128 [00:00<00:00, 2343.27it/s]\n",
      "100%|██████████| 6454/6454 [00:00<00:00, 7696.21it/s]\n",
      "100%|██████████| 7112/7112 [00:00<00:00, 7609.50it/s]\n"
     ]
    },
    {
     "name": "stdout",
     "output_type": "stream",
     "text": [
      "Regional data QA/QC\n"
     ]
    },
    {
     "name": "stderr",
     "output_type": "stream",
     "text": [
      "100%|██████████| 2/2 [00:00<00:00, 14.02it/s]\n",
      "100%|██████████| 2/2 [00:11<00:00,  5.81s/it]\n"
     ]
    },
    {
     "name": "stdout",
     "output_type": "stream",
     "text": [
      "Calculating mean SCA for each geometry in each region...\n"
     ]
    },
    {
     "name": "stderr",
     "output_type": "stream",
     "text": [
      "100%|██████████| 3/3 [00:31<00:00, 10.44s/it]\n"
     ]
    },
    {
     "name": "stdout",
     "output_type": "stream",
     "text": [
      "Making predictions for:  2019-05-14\n",
      "N_Sierras\n",
      "41/41 [==============================] - 0s 3ms/step\n",
      "S_Sierras_High\n",
      "80/80 [==============================] - 0s 3ms/step\n",
      "S_Sierras_Low\n",
      "21/21 [==============================] - 0s 2ms/step\n",
      "Updating SWE predictions for  2019-05-21\n",
      "VIIRS fSCA files found locally\n"
     ]
    },
    {
     "name": "stderr",
     "output_type": "stream",
     "text": [
      "100%|██████████| 128/128 [00:00<00:00, 3063.37it/s]\n",
      "100%|██████████| 128/128 [00:00<00:00, 3016.84it/s]\n",
      "100%|██████████| 6454/6454 [00:00<00:00, 7712.12it/s]\n",
      "100%|██████████| 7112/7112 [00:00<00:00, 7572.01it/s]\n"
     ]
    },
    {
     "name": "stdout",
     "output_type": "stream",
     "text": [
      "Regional data QA/QC\n"
     ]
    },
    {
     "name": "stderr",
     "output_type": "stream",
     "text": [
      "100%|██████████| 2/2 [00:00<00:00, 14.48it/s]\n",
      "100%|██████████| 2/2 [00:11<00:00,  5.87s/it]\n"
     ]
    },
    {
     "name": "stdout",
     "output_type": "stream",
     "text": [
      "Calculating mean SCA for each geometry in each region...\n"
     ]
    },
    {
     "name": "stderr",
     "output_type": "stream",
     "text": [
      "100%|██████████| 3/3 [00:31<00:00, 10.48s/it]\n"
     ]
    },
    {
     "name": "stdout",
     "output_type": "stream",
     "text": [
      "Making predictions for:  2019-05-21\n",
      "N_Sierras\n",
      "47/47 [==============================] - 0s 3ms/step\n",
      "S_Sierras_High\n",
      "81/81 [==============================] - 0s 2ms/step\n",
      "S_Sierras_Low\n",
      "37/37 [==============================] - 0s 2ms/step\n",
      "Updating SWE predictions for  2019-05-28\n",
      "VIIRS fSCA files found locally\n"
     ]
    },
    {
     "name": "stderr",
     "output_type": "stream",
     "text": [
      "100%|██████████| 128/128 [00:00<00:00, 2838.84it/s]\n",
      "100%|██████████| 128/128 [00:00<00:00, 2913.34it/s]\n",
      "100%|██████████| 6454/6454 [00:00<00:00, 7484.86it/s]\n",
      "100%|██████████| 7112/7112 [00:00<00:00, 7231.82it/s]\n"
     ]
    },
    {
     "name": "stdout",
     "output_type": "stream",
     "text": [
      "Regional data QA/QC\n"
     ]
    },
    {
     "name": "stderr",
     "output_type": "stream",
     "text": [
      "100%|██████████| 2/2 [00:00<00:00, 15.30it/s]\n",
      "100%|██████████| 2/2 [00:11<00:00,  5.92s/it]\n"
     ]
    },
    {
     "name": "stdout",
     "output_type": "stream",
     "text": [
      "Calculating mean SCA for each geometry in each region...\n"
     ]
    },
    {
     "name": "stderr",
     "output_type": "stream",
     "text": [
      "100%|██████████| 3/3 [00:30<00:00, 10.06s/it]\n"
     ]
    },
    {
     "name": "stdout",
     "output_type": "stream",
     "text": [
      "Making predictions for:  2019-05-28\n",
      "N_Sierras\n",
      "42/42 [==============================] - 0s 3ms/step\n",
      "S_Sierras_High\n",
      "80/80 [==============================] - 0s 3ms/step\n",
      "S_Sierras_Low\n",
      "29/29 [==============================] - 0s 3ms/step\n",
      "Updating SWE predictions for  2019-06-04\n",
      "VIIRS fSCA files found locally\n"
     ]
    },
    {
     "name": "stderr",
     "output_type": "stream",
     "text": [
      "100%|██████████| 128/128 [00:00<00:00, 3131.41it/s]\n",
      "100%|██████████| 128/128 [00:00<00:00, 3008.88it/s]\n",
      "100%|██████████| 6454/6454 [00:00<00:00, 7430.46it/s]\n",
      "100%|██████████| 7112/7112 [00:00<00:00, 7355.96it/s]\n"
     ]
    },
    {
     "name": "stdout",
     "output_type": "stream",
     "text": [
      "Regional data QA/QC\n"
     ]
    },
    {
     "name": "stderr",
     "output_type": "stream",
     "text": [
      "100%|██████████| 2/2 [00:00<00:00, 14.89it/s]\n",
      "100%|██████████| 2/2 [00:11<00:00,  5.92s/it]\n"
     ]
    },
    {
     "name": "stdout",
     "output_type": "stream",
     "text": [
      "Calculating mean SCA for each geometry in each region...\n"
     ]
    },
    {
     "name": "stderr",
     "output_type": "stream",
     "text": [
      "100%|██████████| 3/3 [00:32<00:00, 10.87s/it]\n"
     ]
    },
    {
     "name": "stdout",
     "output_type": "stream",
     "text": [
      "Making predictions for:  2019-06-04\n",
      "N_Sierras\n",
      "22/22 [==============================] - 0s 2ms/step\n",
      "S_Sierras_High\n",
      "75/75 [==============================] - 0s 2ms/step\n",
      "S_Sierras_Low\n",
      "13/13 [==============================] - 0s 4ms/step\n",
      "Updating SWE predictions for  2019-06-11\n",
      "VIIRS fSCA files found locally\n"
     ]
    },
    {
     "name": "stderr",
     "output_type": "stream",
     "text": [
      "100%|██████████| 128/128 [00:00<00:00, 2517.37it/s]\n",
      "100%|██████████| 128/128 [00:00<00:00, 2932.82it/s]\n",
      "100%|██████████| 6454/6454 [00:00<00:00, 7490.09it/s]\n",
      "100%|██████████| 7112/7112 [00:00<00:00, 7590.61it/s]\n"
     ]
    },
    {
     "name": "stdout",
     "output_type": "stream",
     "text": [
      "Regional data QA/QC\n"
     ]
    },
    {
     "name": "stderr",
     "output_type": "stream",
     "text": [
      "100%|██████████| 2/2 [00:00<00:00, 13.22it/s]\n",
      "100%|██████████| 2/2 [00:11<00:00,  5.83s/it]\n"
     ]
    },
    {
     "name": "stdout",
     "output_type": "stream",
     "text": [
      "Calculating mean SCA for each geometry in each region...\n"
     ]
    },
    {
     "name": "stderr",
     "output_type": "stream",
     "text": [
      "100%|██████████| 3/3 [00:30<00:00, 10.19s/it]\n"
     ]
    },
    {
     "name": "stdout",
     "output_type": "stream",
     "text": [
      "Making predictions for:  2019-06-11\n",
      "N_Sierras\n",
      "18/18 [==============================] - 0s 4ms/step\n",
      "S_Sierras_High\n",
      "68/68 [==============================] - 0s 3ms/step\n",
      "S_Sierras_Low\n",
      "5/5 [==============================] - 0s 3ms/step\n",
      "Updating SWE predictions for  2019-06-18\n",
      "VIIRS fSCA files found locally\n"
     ]
    },
    {
     "name": "stderr",
     "output_type": "stream",
     "text": [
      "100%|██████████| 128/128 [00:00<00:00, 3000.82it/s]\n",
      "100%|██████████| 128/128 [00:00<00:00, 2989.97it/s]\n",
      "100%|██████████| 6454/6454 [00:00<00:00, 7771.97it/s]\n",
      "100%|██████████| 7112/7112 [00:00<00:00, 7347.83it/s]\n"
     ]
    },
    {
     "name": "stdout",
     "output_type": "stream",
     "text": [
      "Regional data QA/QC\n"
     ]
    },
    {
     "name": "stderr",
     "output_type": "stream",
     "text": [
      "100%|██████████| 2/2 [00:00<00:00, 13.93it/s]\n",
      "100%|██████████| 2/2 [00:11<00:00,  5.92s/it]\n"
     ]
    },
    {
     "name": "stdout",
     "output_type": "stream",
     "text": [
      "Calculating mean SCA for each geometry in each region...\n"
     ]
    },
    {
     "name": "stderr",
     "output_type": "stream",
     "text": [
      "100%|██████████| 3/3 [00:31<00:00, 10.66s/it]\n"
     ]
    },
    {
     "name": "stdout",
     "output_type": "stream",
     "text": [
      "Making predictions for:  2019-06-18\n",
      "N_Sierras\n",
      "10/10 [==============================] - 0s 3ms/step\n",
      "S_Sierras_High\n",
      "57/57 [==============================] - 0s 2ms/step\n",
      "S_Sierras_Low\n",
      "2/2 [==============================] - 0s 5ms/step\n",
      "Updating SWE predictions for  2019-06-25\n",
      "VIIRS fSCA files found locally\n"
     ]
    },
    {
     "name": "stderr",
     "output_type": "stream",
     "text": [
      "100%|██████████| 128/128 [00:00<00:00, 2869.20it/s]\n",
      "100%|██████████| 128/128 [00:00<00:00, 2904.82it/s]\n",
      "100%|██████████| 6454/6454 [00:00<00:00, 8009.96it/s]\n",
      "100%|██████████| 7112/7112 [00:00<00:00, 7749.96it/s]\n"
     ]
    },
    {
     "name": "stdout",
     "output_type": "stream",
     "text": [
      "Regional data QA/QC\n"
     ]
    },
    {
     "name": "stderr",
     "output_type": "stream",
     "text": [
      "100%|██████████| 2/2 [00:00<00:00, 15.78it/s]\n",
      "100%|██████████| 2/2 [00:11<00:00,  5.83s/it]\n"
     ]
    },
    {
     "name": "stdout",
     "output_type": "stream",
     "text": [
      "Calculating mean SCA for each geometry in each region...\n"
     ]
    },
    {
     "name": "stderr",
     "output_type": "stream",
     "text": [
      "100%|██████████| 3/3 [00:30<00:00, 10.18s/it]\n"
     ]
    },
    {
     "name": "stdout",
     "output_type": "stream",
     "text": [
      "Making predictions for:  2019-06-25\n",
      "N_Sierras\n",
      "4/4 [==============================] - 0s 9ms/step\n",
      "S_Sierras_High\n",
      "41/41 [==============================] - 0s 3ms/step\n",
      "S_Sierras_Low\n",
      "1/1 [==============================] - 0s 56ms/step\n"
     ]
    }
   ],
   "source": [
    "\n",
    "\n",
    "#run the model through all time (data acqusition already completed)\n",
    "for day in datelist:\n",
    "    print('Updating SWE predictions for ', day)\n",
    "    #connect interactive script to Wasatch Snow module\n",
    "    Snow = NSM_SCA.NSM_SCA(cwd, datapath, day, threshold=threshold, Regions = Region_list)\n",
    "    \n",
    "    #Go get SNOTEL observations - Use this line if in situ obs not already loaded.\n",
    "    #Snow.Get_Monitoring_Data_Threaded()\n",
    "\n",
    "    #Initialize/Download the granules\n",
    "    Snow.initializeGranules()\n",
    "\n",
    "    #Process observations into Model prediction ready format,\n",
    "    Snow.Data_Processing()\n",
    "\n",
    "    #Agument with SCA\n",
    "    Snow.augmentPredictionDFs()\n",
    "\n",
    "    #Make predictions\n",
    "    Snow.SWE_Predict()"
   ]
  },
  {
   "cell_type": "markdown",
   "id": "1e2290d9",
   "metadata": {},
   "source": [
    "### Model Hindcast complete\n",
    "\n",
    "Lets see how your model performs within SSWEET in the [Hindcast_Evaluation](./Hindcast_Evaluation.ipynb) notebook."
   ]
  },
  {
   "cell_type": "code",
   "execution_count": null,
   "id": "ef8c512c",
   "metadata": {},
   "outputs": [],
   "source": []
  },
  {
   "cell_type": "code",
   "execution_count": null,
   "id": "13af3610",
   "metadata": {},
   "outputs": [],
   "source": []
  }
 ],
 "metadata": {
  "kernelspec": {
   "display_name": "NSM_env",
   "language": "python",
   "name": "nsm_env"
  },
  "language_info": {
   "codemirror_mode": {
    "name": "ipython",
    "version": 3
   },
   "file_extension": ".py",
   "mimetype": "text/x-python",
   "name": "python",
   "nbconvert_exporter": "python",
   "pygments_lexer": "ipython3",
   "version": "3.9.12"
  }
 },
 "nbformat": 4,
 "nbformat_minor": 5
}
